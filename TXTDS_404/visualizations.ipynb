{
 "cells": [
  {
   "cell_type": "code",
   "execution_count": 2,
   "metadata": {},
   "outputs": [
    {
     "data": {
      "text/html": [
       "<pre style=\"white-space:pre;overflow-x:auto;line-height:normal;font-family:Menlo,'DejaVu Sans Mono',consolas,'Courier New',monospace\">Manim Community <span style=\"color: #008000; text-decoration-color: #008000\">v0.17.2</span>\n",
       "\n",
       "</pre>\n"
      ],
      "text/plain": [
       "Manim Community \u001b[32mv0.\u001b[0m\u001b[32m17.2\u001b[0m\n",
       "\n"
      ]
     },
     "metadata": {},
     "output_type": "display_data"
    }
   ],
   "source": [
    "import numpy as np\n",
    "import pandas as pd\n",
    "import manim as mn"
   ]
  },
  {
   "cell_type": "code",
   "execution_count": 5,
   "metadata": {},
   "outputs": [
    {
     "name": "stdout",
     "output_type": "stream",
     "text": [
      "1        1\n",
      "2        1\n",
      "3        4\n",
      "4        3\n",
      "5        2\n",
      "        ..\n",
      "29994    2\n",
      "29995    2\n",
      "29996    2\n",
      "29997    1\n",
      "29998    4\n",
      "Name: Q61b, Length: 29328, dtype: int64\n"
     ]
    },
    {
     "name": "stderr",
     "output_type": "stream",
     "text": [
      "/tmp/ipykernel_12762/863989477.py:1: DtypeWarning: Columns (47,48,73,74,75,76,77,78,79,80,81,82,83,84,87,91,174,175,209,245) have mixed types. Specify dtype option on import or set low_memory=False.\n",
      "  data = pd.read_csv('/workspaces/nsc508.github.io/TXTDS_404/data.csv')\n"
     ]
    }
   ],
   "source": [
    "data = pd.read_csv('/workspaces/nsc508.github.io/TXTDS_404/data.csv')\n",
    "neighbor_caste = data['Q61b'].loc[(data['Q61b'] == 1) | (data['Q61b'] == 2) | (data['Q61b'] == 3) | (data['Q61b'] == 4)]\n",
    "print(neighbor_caste)"
   ]
  },
  {
   "cell_type": "code",
   "execution_count": 9,
   "metadata": {},
   "outputs": [
    {
     "name": "stdout",
     "output_type": "stream",
     "text": [
      "0        4\n",
      "1        2\n",
      "2        2\n",
      "3        1\n",
      "4        4\n",
      "        ..\n",
      "29994    4\n",
      "29995    2\n",
      "29996    1\n",
      "29997    2\n",
      "29998    1\n",
      "Name: QCASTE, Length: 29999, dtype: int64\n",
      "0        81\n",
      "1         8\n",
      "2         8\n",
      "3         1\n",
      "4        81\n",
      "         ..\n",
      "29994    81\n",
      "29995     8\n",
      "29996     1\n",
      "29997     8\n",
      "29998     1\n",
      "Name: QCASTE, Length: 29999, dtype: int64\n",
      "0         4\n",
      "1         2\n",
      "2         2\n",
      "3        97\n",
      "4         4\n",
      "         ..\n",
      "29994     4\n",
      "29995     2\n",
      "29996    97\n",
      "29997     2\n",
      "29998    97\n",
      "Name: QCASTE, Length: 29999, dtype: object\n"
     ]
    }
   ],
   "source": [
    "print(data['QCASTE'])\n",
    "print(data['QCASTE'].replace([2, 3, 4], [8, 24, 81]))\n",
    "print(data['QCASTE'].mask(data['QCASTE'] == 1, data['QCASTEb']))"
   ]
  },
  {
   "attachments": {},
   "cell_type": "markdown",
   "metadata": {},
   "source": [
    "data['QCASTE'] = data['QCASTE'].mask(data['QCASTE'] == 1, data['QCASTEb'])"
   ]
  }
 ],
 "metadata": {
  "kernelspec": {
   "display_name": "base",
   "language": "python",
   "name": "python3"
  },
  "language_info": {
   "codemirror_mode": {
    "name": "ipython",
    "version": 3
   },
   "file_extension": ".py",
   "mimetype": "text/x-python",
   "name": "python",
   "nbconvert_exporter": "python",
   "pygments_lexer": "ipython3",
   "version": "3.11.2"
  },
  "orig_nbformat": 4
 },
 "nbformat": 4,
 "nbformat_minor": 2
}
